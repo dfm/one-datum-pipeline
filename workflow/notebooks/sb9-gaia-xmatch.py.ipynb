{
 "cells": [
  {
   "cell_type": "code",
   "execution_count": 2,
   "id": "narrative-diving",
   "metadata": {},
   "outputs": [],
   "source": [
    "import os\n",
    "import pathlib\n",
    "import re\n",
    "\n",
    "import astropy.coordinates as coord\n",
    "import astropy.table as at\n",
    "import astropy.units as u\n",
    "import matplotlib as mpl\n",
    "import matplotlib.pyplot as plt\n",
    "%matplotlib inline\n",
    "import numpy as np\n",
    "\n",
    "from astroquery.gaia import Gaia\n",
    "Gaia.login(**snakemake.config[\"gaia\"])"
   ]
  },
  {
   "cell_type": "code",
   "execution_count": 3,
   "id": "furnished-third",
   "metadata": {},
   "outputs": [],
   "source": [
    "data_dir = pathlib.Path(snakemake.input[0]).parent"
   ]
  },
  {
   "cell_type": "code",
   "execution_count": 4,
   "id": "elect-colombia",
   "metadata": {},
   "outputs": [],
   "source": [
    "username = Gaia._TapPlus__user\n",
    "sb9_tblname = 'sb9_2021_02'\n",
    "sb9_archive_tblname = f'user_{username}.{sb9_tblname}'"
   ]
  },
  {
   "cell_type": "code",
   "execution_count": 5,
   "id": "suffering-ridge",
   "metadata": {},
   "outputs": [],
   "source": [
    "# see: !head -n 20 SB9public/ReadMe.txt\n",
    "colnames = [\n",
    "    'id',\n",
    "    'sb9_j1900_str',\n",
    "    'sb9_j2000_str',\n",
    "    'sb9_component',\n",
    "    'sb9_mag1',\n",
    "    'sb9_filter1',\n",
    "    'sb9_mag2',\n",
    "    'sb9_filter2',\n",
    "    'sb9_spt1',\n",
    "    'sb9_spt2'\n",
    "]\n",
    "\n",
    "sb9_tbl = at.Table.read(data_dir / 'SB9public' / 'Main.dta',\n",
    "                        delimiter='|', format='ascii.basic',\n",
    "                        names=colnames)\n",
    "\n",
    "# only keep sources with magnitudes in SB9 (this removes ~90 sources)\n",
    "sb9_tbl = sb9_tbl[~sb9_tbl['sb9_mag1'].mask]\n",
    "\n",
    "# also remove whack values - this removes another 2 sources\n",
    "mag_mask = np.ones(len(sb9_tbl), dtype=bool)\n",
    "for i, m in enumerate(sb9_tbl['sb9_mag1']):\n",
    "    try:\n",
    "        float(m)\n",
    "        mag_mask[i] = False\n",
    "    except:\n",
    "        pass\n",
    "sb9_tbl = sb9_tbl[~mag_mask]\n",
    "sb9_tbl['sb9_mag1'] = sb9_tbl['sb9_mag1'].filled(np.nan).astype(float)\n",
    "sb9_tbl['sb9_mag2'] = sb9_tbl['sb9_mag2'].filled(1e5)  # MAGIC NUMBER"
   ]
  },
  {
   "cell_type": "markdown",
   "id": "welcome-street",
   "metadata": {},
   "outputs": [],
   "source": [
    "Cool I love parsing string coordinates"
   ]
  },
  {
   "cell_type": "code",
   "execution_count": 6,
   "id": "danish-insured",
   "metadata": {},
   "outputs": [],
   "source": [
    "pattr = re.compile('([0-9]{2})([0-9]{2})([0-9]{2})([0-9]{1,})([\\+\\-])([0-9]{2})([0-9]{2})([0-9]{2})([0-9]{0,})')\n",
    "ra = []\n",
    "dec = []\n",
    "for str_c in sb9_tbl['sb9_j2000_str']:\n",
    "    (ra_h, ra_m, ra_s, ra_s2, \n",
    "     dec_sign, dec_d, dec_m, dec_s, dec_s2) = pattr.search(str_c).groups()\n",
    "    \n",
    "    ra_hms = float(ra_h) + float(ra_m)/60 + float(f\"{ra_s}.{ra_s2}\")/3600\n",
    "    dec_dms = float(dec_d) + float(dec_m)/60 + float(f\"{dec_s}.{dec_s2}\")/3600\n",
    "    dec_dms = float(f'{dec_sign}1') * dec_dms\n",
    "    \n",
    "    ra.append(ra_hms * u.hourangle)\n",
    "    dec.append(dec_dms * u.degree)\n",
    "\n",
    "# simply validation by passing in to lon/lat classes:\n",
    "ra = coord.Longitude(ra)\n",
    "dec = coord.Latitude(dec)\n",
    "\n",
    "sb9_tbl['ra_deg'] = ra.degree\n",
    "sb9_tbl['dec_deg'] = dec.degree"
   ]
  },
  {
   "cell_type": "code",
   "execution_count": 7,
   "id": "considered-state",
   "metadata": {},
   "outputs": [],
   "source": [
    "tblnames = [t.name for t in Gaia.load_tables(only_names=True)]\n",
    "\n",
    "if sb9_archive_tblname not in tblnames:\n",
    "    job = Gaia.upload_table(sb9_tbl['id', 'ra_deg', 'dec_deg'], \n",
    "                            table_name=sb9_tblname)"
   ]
  },
  {
   "cell_type": "markdown",
   "id": "classical-framework",
   "metadata": {},
   "outputs": [],
   "source": [
    "For subqueries, we can't use a wildcard to get all column names, so we explicitly have to ask for all gaia columns..."
   ]
  },
  {
   "cell_type": "code",
   "execution_count": 8,
   "id": "completed-parameter",
   "metadata": {},
   "outputs": [],
   "source": [
    "gaia_tbl = Gaia.load_table('gaiaedr3.gaia_source')\n",
    "all_gaia_columns = [f\"subq.{c.name}\" for c in gaia_tbl.columns]"
   ]
  },
  {
   "cell_type": "code",
   "execution_count": 9,
   "id": "electric-coaching",
   "metadata": {},
   "outputs": [],
   "source": [
    "init_tol = 30 * u.arcsec\n",
    "final_tol = 4 * u.arcsec\n",
    "sb9_epoch = 2000.  # This is a guess!\n",
    " \n",
    "q = f\"\"\"\n",
    "SELECT subq.id, {', '.join(all_gaia_columns)}\n",
    "FROM (\n",
    "    SELECT sb9.id, sb9.ra_deg, sb9.dec_deg, gaia.*\n",
    "    FROM {sb9_archive_tblname} AS sb9, gaiaedr3.gaia_source as gaia\n",
    "    WHERE \n",
    "        contains(POINT('ICRS', sb9.ra_deg, sb9.dec_deg),\n",
    "                 CIRCLE('ICRS', gaia.ra, gaia.dec, {init_tol.to_value(u.deg)}))=1\n",
    "    OFFSET 0\n",
    ") AS subq\n",
    "WHERE \n",
    "    contains(POINT('ICRS', subq.ra + subq.pmra / 3600e3  * ({sb9_epoch} - subq.ref_epoch) / COS(RADIANS(subq.dec)), \n",
    "                           subq.dec + subq.pmdec / 3600e3 * ({sb9_epoch} - subq.ref_epoch)),\n",
    "             CIRCLE('ICRS', subq.ra_deg, subq.dec_deg, {final_tol.to_value(u.deg)}))=1\n",
    "\"\"\""
   ]
  },
  {
   "cell_type": "code",
   "execution_count": 10,
   "id": "voluntary-raleigh",
   "metadata": {},
   "outputs": [],
   "source": [
    "job = Gaia.launch_job_async(q, name='sb9-edr3')"
   ]
  },
  {
   "cell_type": "code",
   "execution_count": 11,
   "id": "sporting-navigator",
   "metadata": {},
   "outputs": [],
   "source": [
    "xm_tbl = job.get_results()"
   ]
  },
  {
   "cell_type": "code",
   "execution_count": 12,
   "id": "contained-world",
   "metadata": {},
   "outputs": [],
   "source": [
    "joined = at.join(sb9_tbl, xm_tbl, keys='id')"
   ]
  },
  {
   "cell_type": "code",
   "execution_count": 13,
   "id": "cardiovascular-improvement",
   "metadata": {},
   "outputs": [],
   "source": [
    "mag = -np.log10((10**-joined['sb9_mag1'] + 10**-joined['sb9_mag2']))\n",
    "\n",
    "plt.figure(figsize=(6, 6))\n",
    "plt.scatter(joined['phot_g_mean_mag'], mag - joined['phot_g_mean_mag'],\n",
    "            alpha=0.5, lw=0, s=4)\n",
    "plt.xlabel('$G$ [mag]')\n",
    "plt.ylabel(r'$V_{\\rm SB9} - G$ [mag]')\n",
    "plt.ylim(-5, 5)"
   ]
  },
  {
   "cell_type": "markdown",
   "id": "substantial-graduate",
   "metadata": {},
   "outputs": [],
   "source": [
    "OK so there are definitely sources with unexpected Gaia mags given the V-band mags in SB9, so we can trim those as (hopefully) duplicate / spurious matches. We could do something much better here, since there is a color-dependent transform between G <--> V...but, ya'know, hacks:"
   ]
  },
  {
   "cell_type": "code",
   "execution_count": 14,
   "id": "banner-masters",
   "metadata": {},
   "outputs": [],
   "source": [
    "dmag = mag - joined['phot_g_mean_mag']"
   ]
  },
  {
   "cell_type": "code",
   "execution_count": 15,
   "id": "opened-result",
   "metadata": {},
   "outputs": [],
   "source": [
    "dmag_cut = 0.5\n",
    "\n",
    "plt.figure(figsize=(6, 6))\n",
    "plt.scatter(joined['phot_g_mean_mag'], \n",
    "            dmag - np.median(dmag),\n",
    "            alpha=0.5, lw=0, s=4)\n",
    "plt.xlabel('$G$ [mag]')\n",
    "plt.ylabel(r'$V_{\\rm SB9} - G$ [mag]')\n",
    "plt.ylim(-5, 5)\n",
    "plt.axhline(dmag_cut)\n",
    "plt.axhline(-dmag_cut)"
   ]
  },
  {
   "cell_type": "code",
   "execution_count": 16,
   "id": "acceptable-madison",
   "metadata": {},
   "outputs": [],
   "source": [
    "joined_dmag = joined[np.abs(dmag - np.median(dmag)) < dmag_cut]"
   ]
  },
  {
   "cell_type": "code",
   "execution_count": 17,
   "id": "reduced-sympathy",
   "metadata": {},
   "outputs": [],
   "source": [
    "_, counts = np.unique(joined_dmag['id'], return_counts=True)\n",
    "(counts > 1).sum()"
   ]
  },
  {
   "cell_type": "code",
   "execution_count": 18,
   "id": "regulation-reservoir",
   "metadata": {},
   "outputs": [],
   "source": [
    "len(joined_dmag)"
   ]
  },
  {
   "cell_type": "markdown",
   "id": "senior-hours",
   "metadata": {},
   "outputs": [],
   "source": [
    "Now let's just save the ones with measured RV error from Gaia:"
   ]
  },
  {
   "cell_type": "code",
   "execution_count": 19,
   "id": "metric-classics",
   "metadata": {},
   "outputs": [],
   "source": [
    "joined_dmag_with_rv = joined_dmag[np.isfinite(joined_dmag[\"dr2_radial_velocity_error\"])]"
   ]
  },
  {
   "cell_type": "code",
   "execution_count": 20,
   "id": "armed-apollo",
   "metadata": {},
   "outputs": [],
   "source": [
    "len(joined_dmag_with_rv)"
   ]
  },
  {
   "cell_type": "code",
   "execution_count": 21,
   "id": "loaded-stadium",
   "metadata": {},
   "outputs": [],
   "source": [
    "plt.hist(joined_dmag_with_rv[\"dr2_radial_velocity_error\"], 50)\n",
    "plt.xlabel(\"Gaia DR2 RV error\")\n",
    "plt.ylabel(\"count\");"
   ]
  },
  {
   "cell_type": "code",
   "execution_count": 22,
   "id": "funky-henry",
   "metadata": {},
   "outputs": [],
   "source": [
    "plt.hist(joined_dmag_with_rv[\"dr2_rv_nb_transits\"], 50)\n",
    "plt.xlabel(\"Gaia number of RVS transits\")\n",
    "plt.ylabel(\"count\");"
   ]
  },
  {
   "cell_type": "code",
   "execution_count": 23,
   "id": "separate-mambo",
   "metadata": {},
   "outputs": [],
   "source": [
    "colnames = [\n",
    "    \"id\",\n",
    "    \"sb9_number\",\n",
    "    \"sb9_period\",\n",
    "    \"sb9_period_err\",\n",
    "    \"sb9_t_peri\",\n",
    "    \"sb9_t_peri_err\",\n",
    "    \"sb9_t_peri_flag\",\n",
    "    \"sb9_eccen\",\n",
    "    \"sb9_eccen_err\",\n",
    "    \"sb9_omega\",\n",
    "    \"sb9_omega_err\",\n",
    "    \"sb9_k1\",\n",
    "    \"sb9_k1_err\",\n",
    "    \"sb9_k2\",\n",
    "    \"sb9_k2_err\",\n",
    "    \"sb9_rv0\",\n",
    "    \"sb9_rv0_err\",\n",
    "    \"sb9_rv_rms1\",\n",
    "    \"sb9_rv_rms2\",\n",
    "    \"sb9_num_rv1\",\n",
    "    \"sb9_num_rv2\",\n",
    "    \"sb9_grade\",\n",
    "    \"sb9_bibcode\",\n",
    "    \"sb9_contributor\",\n",
    "    \"sb9_accessibility\",\n",
    "    \"sb9_time_ref\",\n",
    "]\n",
    "    \n",
    "orbit_tbl = at.Table.read(data_dir / 'SB9public' / 'Orbits.dta',\n",
    "                          delimiter='|', format='ascii.basic',\n",
    "                          names=colnames)"
   ]
  },
  {
   "cell_type": "code",
   "execution_count": 24,
   "id": "norwegian-slovak",
   "metadata": {},
   "outputs": [],
   "source": [
    "final = at.join(joined_dmag_with_rv, orbit_tbl, keys=[\"id\"])\n",
    "del final[\"designation\"]\n",
    "\n",
    "k1 = final[\"sb9_k1\"]\n",
    "k1[k1 == \"12.D0\"] = \"12.0\"\n",
    "final[\"sb9_k1\"] = k1.filled(np.nan).astype(float)"
   ]
  },
  {
   "cell_type": "code",
   "execution_count": 25,
   "id": "boolean-adrian",
   "metadata": {},
   "outputs": [],
   "source": [
    "plt.loglog(final[\"sb9_k1\"], final[\"dr2_radial_velocity_error\"], \".\")\n",
    "plt.xlabel(\"SB9 K1\")\n",
    "plt.ylabel(\"Gaia DR2 RV error\")"
   ]
  },
  {
   "cell_type": "code",
   "execution_count": 26,
   "id": "professional-hobby",
   "metadata": {},
   "outputs": [],
   "source": [
    "final.write(snakemake.output[0], format='fits', overwrite=True)"
   ]
  },
  {
   "cell_type": "code",
   "execution_count": null,
   "id": "static-petroleum",
   "metadata": {},
   "outputs": [],
   "source": []
  }
 ],
 "metadata": {
  "kernelspec": {
   "display_name": "Python 3",
   "language": "python",
   "name": "python3"
  },
  "language_info": {
   "codemirror_mode": {
    "name": "ipython",
    "version": 3
   },
   "file_extension": ".py",
   "mimetype": "text/x-python",
   "name": "python",
   "nbconvert_exporter": "python",
   "pygments_lexer": "ipython3",
   "version": "3.9.1"
  }
 },
 "nbformat": 4,
 "nbformat_minor": 5
}
